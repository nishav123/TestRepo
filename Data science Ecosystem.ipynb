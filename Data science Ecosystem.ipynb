{
 "cells": [
  {
   "cell_type": "markdown",
   "id": "cc1e5265-3c5f-42a2-9abb-f341fc025bc2",
   "metadata": {},
   "source": [
    "# Data science Tools and Ecosystem"
   ]
  },
  {
   "cell_type": "markdown",
   "id": "291b47fb-2315-4423-aa70-ba9f9f9e3ec5",
   "metadata": {},
   "source": [
    "In this notebook Data Scince tools and Ecosystem are summarised."
   ]
  },
  {
   "cell_type": "markdown",
   "id": "7b62a617-520d-4fa6-981c-a15122501150",
   "metadata": {},
   "source": [
    "**Objective**\n",
    "* List of popular languages for Data Science\n",
    "* List of commonly used libraries\n",
    "* List of data science tools"
   ]
  },
  {
   "cell_type": "markdown",
   "id": "eca1857d-67dd-4da2-b57a-48cb96b06cda",
   "metadata": {},
   "source": [
    "Some of the popular languages that Data Scientist use are:\n",
    "1. python\n",
    "2. R\n",
    "3. SQL\n",
    "4. Julia\n",
    "5. scala\n"
   ]
  },
  {
   "cell_type": "markdown",
   "id": "16dee207-4f18-4f89-b8b4-12f9fa82906b",
   "metadata": {},
   "source": [
    "Some of the commonly used Libraries used by Data scientist include:\n",
    "1. Numpy\n",
    "2. pandas\n",
    "3. Matplotlib\n",
    "4. Seaborn\n",
    "5. Tensorflow"
   ]
  },
  {
   "cell_type": "markdown",
   "id": "8027e501-7ca0-4504-85ad-8e4bacf66f68",
   "metadata": {},
   "source": [
    "| Data Scince tools |\n",
    "|-------------------|\n",
    "| jupyter Notebook |\n",
    "| R studio |\n",
    "| VS code |\n"
   ]
  },
  {
   "cell_type": "markdown",
   "id": "611c338b-8ea8-4bb1-9d54-acb4c88e8095",
   "metadata": {},
   "source": [
    "### Below are a few examples of evaluating arithmetic expression in python"
   ]
  },
  {
   "cell_type": "markdown",
   "id": "73bd0547-3e2a-42c3-8a19-df864d10af50",
   "metadata": {},
   "source": [
    "This a simple arithmtic expression to multiply then add integers\n"
   ]
  },
  {
   "cell_type": "code",
   "execution_count": 4,
   "id": "64a86425-86ea-4563-9919-9fb55fb4c97a",
   "metadata": {},
   "outputs": [
    {
     "data": {
      "text/plain": [
       "17"
      ]
     },
     "execution_count": 4,
     "metadata": {},
     "output_type": "execute_result"
    }
   ],
   "source": [
    "(3 * 4) +5"
   ]
  },
  {
   "cell_type": "markdown",
   "id": "66280027-a50d-4f19-9118-296c5374a4f1",
   "metadata": {},
   "source": [
    "This will convert 200 minutes to hours by diving by 60"
   ]
  },
  {
   "cell_type": "code",
   "execution_count": 9,
   "id": "c54ace67-cc75-4373-99d0-139d54ed0343",
   "metadata": {},
   "outputs": [
    {
     "name": "stdout",
     "output_type": "stream",
     "text": [
      "200 minutes is equal to 3.3333333333333335 hours.\n"
     ]
    }
   ],
   "source": [
    "minutes = 200\n",
    "hours = minutes / 60\n",
    "print(f\"{minutes} minutes is equal to {hours} hours.\")"
   ]
  },
  {
   "cell_type": "markdown",
   "id": "442f49e6-087a-4664-aa69-4789d306a2a5",
   "metadata": {},
   "source": [
    "## Author ##\n",
    "Nisha.V"
   ]
  },
  {
   "cell_type": "code",
   "execution_count": null,
   "id": "33abf6c0-d263-4c68-8160-724a4887ef5c",
   "metadata": {},
   "outputs": [],
   "source": []
  }
 ],
 "metadata": {
  "kernelspec": {
   "display_name": "Python 3 (ipykernel)",
   "language": "python",
   "name": "python3"
  },
  "language_info": {
   "codemirror_mode": {
    "name": "ipython",
    "version": 3
   },
   "file_extension": ".py",
   "mimetype": "text/x-python",
   "name": "python",
   "nbconvert_exporter": "python",
   "pygments_lexer": "ipython3",
   "version": "3.13.7"
  }
 },
 "nbformat": 4,
 "nbformat_minor": 5
}
